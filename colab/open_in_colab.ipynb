{
 "cells": [
  {
   "cell_type": "markdown",
   "metadata": {
    "vscode": {
     "languageId": "plaintext"
    }
   },
   "source": [
    "# GitHub上の ipynb ファイルを Google Colabで開く"
   ]
  },
  {
   "cell_type": "markdown",
   "metadata": {},
   "source": [
    "### A. Colab のOpen Notebookメニューから\n",
    "\n",
    "ファイルを開くメニューに，`GitHub` セクションがあり，レポジトリとノートブックを検索できる．\n",
    "\n",
    "\n",
    "### B. URLを直接叩く\n",
    "\n",
    "GitHub上で公開されているファイルのURLが `https://github.com/${USER}/${REPOSITORY}/blob/${BRANCH}/${FOLDER}/${file}.ipynb` であれば，Google Colabでは `https://colab.research.google.com/github/${USER}/${REPOSITORY}/blob/${BRANCH}/${FOLDER}/${file}.ipynb` となる．\n",
    "\n",
    "`https://github.com/` を `https://colab.research.google.com/github/` に置き換えるだけ．\n",
    "\n",
    "たとえばこのファイルは `${USER}=tktmyd`, `${REPOSITORY}=ipynbs`, `${BRANCH}=main`, `${FOLDER}=colab` であるから，\n",
    "\n",
    "- 元ファイル: [`https://github.com/tktmyd/ipynbs/blob/main/colab/chk_environment.ipynb`](https://github.com/tktmyd/ipynbs/blob/main/colab/chk_environment.ipynb)\n",
    "- 編集モード: [`https://github.dev/tktmyd/ipynbs/blob/main/colab/chk_environment.ipynb`](https://github.dev/tktmyd/ipynbs/blob/main/colab/chk_environment.ipynb)\n",
    "- Colab: [`https://colab.research.google.com/github/tktmyd/ipynbs/blob/main/colab/chk_environment.ipynb`](https://colab.research.google.com/github/tktmyd/ipynbs/blob/main/colab/chk_environment.ipynb)\n",
    "\n",
    "である．\n"
   ]
  },
  {
   "cell_type": "markdown",
   "metadata": {},
   "source": [
    "どちらの場合でも，ファイルを開いたのちに画面上部の『**ドライブにコピー**』を選ぶことで，自分のGoogle Drive上にファイルをコピーできる．\n",
    "\n",
    "編集権限のあるGitHubリポジトリのファイルを開いた場合は，Colabでの編集結果をリポジトリに反映（Commit/Push）することもできる．その場合はGUIのメニューからPushする際に \"Open in Google Colab\" ボタンをipynbファイル最上部に付与することもできる．（その実態は上記のURLのリンクがバナーに貼られるだけだ．）"
   ]
  }
 ],
 "metadata": {
  "language_info": {
   "name": "python"
  }
 },
 "nbformat": 4,
 "nbformat_minor": 2
}
