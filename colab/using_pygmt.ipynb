{
  "cells": [
    {
      "cell_type": "markdown",
      "metadata": {
        "id": "view-in-github",
        "colab_type": "text"
      },
      "source": [
        "<a href=\"https://colab.research.google.com/github/tktmyd/ipynbs/blob/main/colab/using_pygmt.ipynb\" target=\"_parent\"><img src=\"https://colab.research.google.com/assets/colab-badge.svg\" alt=\"Open In Colab\"/></a>"
      ]
    },
    {
      "cell_type": "markdown",
      "metadata": {
        "id": "GHhNZ-1ihHVj"
      },
      "source": [
        "# Using PyGMT in Google Colab"
      ]
    },
    {
      "cell_type": "markdown",
      "metadata": {
        "id": "yO1ZhniWhHVm"
      },
      "source": [
        "To try this code in your account, fist push \"Copy to Drive\" button above to make your copy of this ipynb file.\n",
        "\n",
        "The following code block installs PyGMT to the current instance of Google colab. Note that the installation is **locally** performed: i.e., this process does not affect any other notebook in your account."
      ]
    },
    {
      "cell_type": "code",
      "execution_count": null,
      "metadata": {
        "id": "Vl5P5H0RhHVm"
      },
      "outputs": [],
      "source": [
        "import sys\n",
        "if 'google.colab' in sys.modules:\n",
        "    print(\"Installing pygmt on Google Colab. It may take a few minutes.\")\n",
        "    ! pip install -q condacolab &> /dev/null\n",
        "    import condacolab\n",
        "    condacolab.install()\n",
        "    ! mamba install pygmt &> /dev/null"
      ]
    },
    {
      "cell_type": "markdown",
      "source": [
        "Sometimes the above script returns the \"kernel crush\" error; if it is the case, please execute the above code one more time, and it will safely install the PyGMT."
      ],
      "metadata": {
        "id": "GjiNKVxdiZrd"
      }
    },
    {
      "cell_type": "markdown",
      "metadata": {
        "id": "hbSmfjQphHVn"
      },
      "source": [
        "Let us confirm that PyGMT is working properly. The following example is taken from the [official tutorial](https://www.pygmt.org/dev/tutorials/advanced/earth_relief.html):  "
      ]
    },
    {
      "cell_type": "code",
      "execution_count": null,
      "metadata": {
        "id": "5_eXp_kphHVn"
      },
      "outputs": [],
      "source": [
        "import pygmt\n",
        "\n",
        "grid = pygmt.datasets.load_earth_relief(resolution=\"01d\")\n",
        "fig = pygmt.Figure()\n",
        "fig.grdimage(grid=grid, projection=\"R12c\", cmap=\"geo\")\n",
        "fig.colorbar(frame=[\"a2500\", \"x+lElevation\", \"y+lm\"])\n",
        "\n",
        "fig.show()"
      ]
    },
    {
      "cell_type": "markdown",
      "metadata": {
        "id": "nbv8Qbn8hHVo"
      },
      "source": [
        "Enjoy!"
      ]
    }
  ],
  "metadata": {
    "kernelspec": {
      "display_name": "seismo24",
      "language": "python",
      "name": "python3"
    },
    "language_info": {
      "codemirror_mode": {
        "name": "ipython",
        "version": 3
      },
      "file_extension": ".py",
      "mimetype": "text/x-python",
      "name": "python",
      "nbconvert_exporter": "python",
      "pygments_lexer": "ipython3",
      "version": "3.12.5"
    },
    "colab": {
      "provenance": [],
      "include_colab_link": true
    }
  },
  "nbformat": 4,
  "nbformat_minor": 0
}