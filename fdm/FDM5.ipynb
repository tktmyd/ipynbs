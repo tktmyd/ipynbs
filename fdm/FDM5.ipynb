{
  "cells": [
    {
      "cell_type": "markdown",
      "id": "e946968c",
      "metadata": {
        "colab_type": "text",
        "id": "view-in-github"
      },
      "source": [
        "<a href=\"https://colab.research.google.com/github/tktmyd/ipynbs/blob/main/fdm/FDM5.ipynb\" target=\"_parent\"><img src=\"https://colab.research.google.com/assets/colab-badge.svg\" alt=\"Open In Colab\"/></a>"
      ]
    },
    {
      "cell_type": "markdown",
      "id": "422f797b-03a9-409c-9b9a-a53f4483fac1",
      "metadata": {
        "id": "422f797b-03a9-409c-9b9a-a53f4483fac1"
      },
      "source": [
        "# 2次元SH問題"
      ]
    },
    {
      "cell_type": "code",
      "execution_count": null,
      "id": "b976858a",
      "metadata": {},
      "outputs": [],
      "source": [
        "import sys\n",
        "if 'google.colab' in sys.modules:\n",
        "    print(\"Installing pygmt on Google Colab. It may take a few minutes.\")\n",
        "    ! pip install -q condacolab &> /dev/null\n",
        "    import condacolab\n",
        "    condacolab.install()\n",
        "    ! mamba install pygmt &> /dev/null"
      ]
    },
    {
      "cell_type": "code",
      "execution_count": null,
      "id": "8f3c080d",
      "metadata": {
        "id": "8f3c080d"
      },
      "outputs": [],
      "source": [
        "import numpy as np\n",
        "import pygmt"
      ]
    },
    {
      "cell_type": "markdown",
      "id": "d4fb6bce",
      "metadata": {
        "id": "d4fb6bce"
      },
      "source": [
        "ここでは，発展問題として，2次元SH問題のスタガードグリッド差分法数値シミュレーションを行います．3次元の運動方程式と構成関係式に対して，$x_2$ 成分の微分がゼロであるという仮定のもと，$x_1$-$x_3$断面における波動伝播を考えます．すると，運動方程式と構成関係式は2組の方程式に分離することができ，そのうちの片方は以下のようなものになります．\n",
        "$$\n",
        "\\begin{align}\n",
        "\t\t & \\rho \\frac{\\partial v_2}{\\partial t} =\n",
        "\t\t\\frac{\\partial \\sigma_{13}}{\\partial x} +\n",
        "\t\t\\frac{\\partial \\sigma_{23}}{\\partial z}\n",
        "\t\t\\\\\n",
        "\t\t & \\frac{\\partial \\sigma_{23}}{\\partial t} =\n",
        "\t\t\\mu\n",
        "\t\t\\frac{\\partial v_2}{\\partial x_3}\n",
        "    , \\quad \\frac{\\partial \\sigma_{12}}{\\partial t} =\n",
        "\t\t\\mu\n",
        "\t\t\\frac{\\partial v_2}{\\partial x_1}\n",
        "\\end{align}\n",
        "$$\n",
        "\n",
        "もし$x_3$方向を深さとして取ると，$v_2$は面外方向に水平に振動する成分ですから，$SH$波を表します．ここに示していない残りの$v_1$, $v_3$に関する方程式は $P$-$SV$ 波を表します．\n",
        "\n",
        "表記を簡単にするため，$x_1\\rightarrow x$, $x_3 \\rightarrow z$と置き換えます．すると上記の方程式は\n",
        "\n",
        "$$\n",
        "\\begin{align}\n",
        "\t\t & \\frac{\\partial v_y}{\\partial t} =\n",
        "\t\t \\frac{1}{\\rho} \\left(\n",
        "\t\t\\frac{\\partial \\sigma_{xy}}{\\partial x} +\n",
        "\t\t\\frac{\\partial \\sigma_{yz}}{\\partial z}\n",
        "\t\t\\right)\n",
        "\t\t\\\\\n",
        "\t\t & \\frac{\\partial \\sigma_{yz}}{\\partial t} =\n",
        "\t\t\\mu\n",
        "\t\t\\frac{\\partial v_y}{\\partial z}\n",
        "\t\t%\\\\\n",
        "\t\t% &\n",
        "    , \\quad \\frac{\\partial \\sigma_{xy}}{\\partial t} =\n",
        "\t\t\\mu\n",
        "\t\t\\frac{\\partial v_y}{\\partial x}\n",
        "\\end{align}\n",
        "$$\n",
        "\n",
        "と表されます．もし$\\mu$が空間一様ならば，運動方程式の時間微分に構成関係式を代入すると，\n",
        "\n",
        "$$\n",
        "\\frac{\\partial^2 v_y}{\\partial t^2} = \\frac{\\mu}{\\rho}\n",
        "\\left( \\frac{\\partial^2 v_y}{\\partial x^2} + \\frac{\\partial^2 v_y}{\\partial z^2} \\right)\n",
        "$$\n",
        "となり，これは速度$\\beta = \\sqrt{\\mu/\\rho}$ の2次元波動方程式にほかなりません．"
      ]
    },
    {
      "cell_type": "markdown",
      "id": "00f98620",
      "metadata": {
        "id": "00f98620"
      },
      "source": [
        "## 方程式の離散化"
      ]
    },
    {
      "cell_type": "markdown",
      "id": "57106323",
      "metadata": {
        "id": "57106323"
      },
      "source": [
        "1次元の問題と同じように，まず空間微分から離散化しましょう．\n",
        "\n",
        "$$\n",
        "x_I = x_0 + I \\Delta x, z_K = z_0 + K \\Delta z\n",
        "$$\n",
        "\n",
        "というふうに，$x, z$方向をそれぞれ$\\Delta x$, $\\Delta z$で離散化します．そのときの値を，たとえば\n",
        "\n",
        "$$\n",
        "v_{y\\,(I-1/2,K-1/2)}(t) = v_y (x_{I-1/2}, z_{K-1/2}, t)\n",
        "$$\n",
        "のように表します．スタガードグリッドでは必要に応じてグリッド位置が 1/2 だけズレるのも，1次元の問題と同じです．\n",
        "\n",
        "うまく位置を組み合わせると，$SH$問題の方程式は，\n",
        "\n",
        "$$\n",
        "\\begin{align}\n",
        "\\sigma_{xy\\,(I, K-1/2)}(t+\\Delta t/2)\n",
        "& =\n",
        "\\sigma_{xy\\,(I, K-1/2)}(t-\\Delta t/2) +\n",
        "\\mu_{(I, K-1/2)}\n",
        "\\frac{v_{y,(I+1/2,K-1/2)} (t) - v_{y,(I-1/2,K-1/2)}(t)}{\\Delta x} \\Delta t\n",
        "\\\\\n",
        " \\sigma_{yz\\,(I-1/2, K)}(t+\\Delta t/2)\n",
        "& = \\sigma_{yz\\,(I-1/2, K)}(t-\\Delta t/2) +\n",
        "\t\\mu_{(I-1/2, K)}\n",
        "    \\frac{v_{y,(I-1/2,K+1/2)}(t) - v_{y,(I-1/2,K-1/2)}(t)}{\\Delta z} \\Delta t\n",
        "\\\\\n",
        "v_{y\\,(I-1/2, K-1/2)}(t+\\Delta t)\n",
        "\t\t& =\n",
        "\t\tv_{y\\,(I-1/2, K-1/2)}(t)\n",
        "\t\t\\notag \\\\&  +\n",
        "\t\t\\frac{1}{\\rho_{(I-1/2, K-1/2)}} \\left[\n",
        "            \\frac{\\sigma_{xy\\,(I, K-1/2)}(t+\\Delta t/2) - \\sigma_{xy\\,(I-1, K-1/2)}(t+\\Delta t/2)}{\\Delta x}\n",
        "            \\right. \\notag\\\\\n",
        "            &\\qquad\\qquad\\qquad \\left.\n",
        "            +\n",
        "            \\frac{\\sigma_{yz\\,(I-1/2, K)}(t+\\Delta t/2) - \\sigma_{yz\\,(I-1/2, K-1)}(t+\\Delta t/2)}{\\Delta z}\n",
        "        \\right] \\Delta t\n",
        "\\end{align}\n",
        "$$"
      ]
    },
    {
      "cell_type": "markdown",
      "id": "cb92bac7",
      "metadata": {
        "id": "cb92bac7"
      },
      "source": [
        "添字が多くて大変ですが，よく見ると，空間位置がすべて中心差分になっていること，左辺が右辺より未来で，過去の情報のアップデートのかたちになっていること，が確認できるでしょう．\n",
        "\n",
        "表記を簡単にしてコンピュータ言語で実装しやすくするため，時間発展を右辺から左辺へのアップデート $\\leftarrow$ 記号で表し，かつセル番号 $i$と$k$をそれぞれ\n",
        "\n",
        "$$\n",
        "(I-1) \\Delta x < x  \\le I \\Delta x,\n",
        "\\quad\n",
        "(K-1) \\Delta z < z  \\le K \\Delta z,\n",
        "$$\n",
        "\n",
        "の範囲をあらわすものとして定義すると，上式は以下のように（まだしも）スッキリと書き表せます．"
      ]
    },
    {
      "cell_type": "markdown",
      "id": "9916f6f4",
      "metadata": {
        "id": "9916f6f4"
      },
      "source": [
        "$$\n",
        "\\begin{align}\n",
        "    &\\sigma_{xy\\,(i,k)} \\leftarrow \\sigma_{xy\\,(i,k)} + \\mu_{(i,k)} \\frac{v_{y\\,(i+1,k)} - v_{y\\,(i,k)}}{\\Delta x} \\Delta t\n",
        "    \\\\\n",
        "    &\\sigma_{yz\\,(i,k)} \\leftarrow \\sigma_{yz\\,(i,k)} + \\mu_{(i,k)} \\frac{v_{y\\,(i,k+1)} - v_{y\\,(i,k)}}{\\Delta z} \\Delta t\n",
        "    \\\\\n",
        "    &v_{y\\,(i,k)} \\leftarrow v_{y\\,(i,k)} + \\frac{1}{\\rho_{(i,k)}} \\left[ \\frac{\\sigma_{xy\\,(i,k)} - \\sigma_{xy\\,(i-1,k)}}{\\Delta x} + \\frac{\\sigma_{yz\\,(i,k)} - \\sigma_{yz\\,(i,k-1)}}{\\Delta z} \\right] \\Delta t\n",
        "\\end{align}\n",
        "$$"
      ]
    },
    {
      "cell_type": "markdown",
      "id": "1e404d22",
      "metadata": {
        "id": "1e404d22"
      },
      "source": [
        "## SHコードの実装"
      ]
    },
    {
      "cell_type": "markdown",
      "id": "1c4f6bf1",
      "metadata": {
        "id": "1c4f6bf1"
      },
      "source": [
        "それでは，1次元コードと同じように実装していきます．まずはパラメタの設定とメモリの確保からです．"
      ]
    },
    {
      "cell_type": "code",
      "execution_count": null,
      "id": "7500351a",
      "metadata": {
        "id": "7500351a"
      },
      "outputs": [],
      "source": [
        "nx = 800\n",
        "nz = 400\n",
        "nt = 1200\n",
        "dx = 0.2  # km\n",
        "dz = 0.2  # km\n",
        "dt = 0.02 # seconds\n",
        "\n",
        "rho = np.zeros([nx+2, nz+2]) # 密度\n",
        "mu  = np.zeros([nx+2, nz+2]) # 合成率\n",
        "Vy  = np.zeros([nx+2, nz+2]) # 粒子速度（SH波）\n",
        "Sxy = np.zeros([nx+2, nz+2]) # 応力 σxy\n",
        "Syz = np.zeros([nx+2, nz+2]) # 応力 σyz"
      ]
    },
    {
      "cell_type": "markdown",
      "id": "b2c5d37f",
      "metadata": {
        "id": "b2c5d37f"
      },
      "source": [
        "続けて，構造モデルを設定します．$z=0$ を地表面として，$z>0$では固体，$z<0$では空気のかわりに真空とします．"
      ]
    },
    {
      "cell_type": "code",
      "execution_count": null,
      "id": "44585ca3",
      "metadata": {
        "id": "44585ca3"
      },
      "outputs": [],
      "source": [
        "# 座標系\n",
        "x = np.linspace(0, nx*dx, nx+1)\n",
        "z = np.linspace(0, nz*dz, nz+1) - 5 # z=0 を地表面にするため，マイナスの値から始める\n",
        "\n",
        "for k in range(nz+1):\n",
        "\n",
        "    # 地表面より上\n",
        "    # 密度は，ゼロで割れないので形式上小さな値を与える\n",
        "    if z[k] < 0:\n",
        "        mu [:,k] = 0.0 # 剛性率はゼロ\n",
        "        rho[:,k] = 0.001\n",
        "    else: # 地下\n",
        "        vs = 3.0\n",
        "        rho[:,k] = 2.7\n",
        "        mu[:,k] = rho[:,k] * vs * vs"
      ]
    },
    {
      "cell_type": "markdown",
      "id": "53f1120b",
      "metadata": {
        "id": "53f1120b"
      },
      "source": [
        "続けては初期条件です．地中のある一点とその周辺に，滑らかに変化する初期速度を与えます．"
      ]
    },
    {
      "cell_type": "code",
      "execution_count": null,
      "id": "e97240c1",
      "metadata": {
        "id": "e97240c1"
      },
      "outputs": [],
      "source": [
        "W = 20\n",
        "for k in range(nz//4-W, nz//4+W):\n",
        "    for i in range(nx//2-W, nx//2+W):\n",
        "        Vy[i,k] = np.cos(np.pi / 2.0 * (i - nx / 2 ) / W)**3 \\\n",
        "                * np.cos(np.pi / 2.0 * (k - nz / 4 ) / W)**3\n",
        "\n",
        "n = 0 # time step"
      ]
    },
    {
      "cell_type": "markdown",
      "id": "51fab35c",
      "metadata": {
        "id": "51fab35c"
      },
      "source": [
        "この状態を，PyGMTで可視化をしてみましょう．"
      ]
    },
    {
      "cell_type": "code",
      "execution_count": null,
      "id": "fc2dd07a",
      "metadata": {
        "id": "fc2dd07a"
      },
      "outputs": [],
      "source": [
        "def plot_wavefield(x, z, Vy, tim):\n",
        "\n",
        "    fig = pygmt.Figure()\n",
        "    pygmt.makecpt(cmap='balance', series=[-0.1, 0.1], background=True)\n",
        "    grd = pygmt.xyz2grd(region = [x[0], x[-1], z[0], z[-1]],\n",
        "                        spacing = [dx, dz],\n",
        "                        data = [ [x[i], z[k], Vy[i,k]] for i in range(nx+1) for k in range(nz+1)] )\n",
        "    fig.grdimage(grid = grd, projection='X12c/-6c',\n",
        "                region = [x[0], x[-1], z[0], z[-1]], cmap=True,\n",
        "                frame = ['WS', 'xa40f20+lx [km]', 'ya30f15+lz [km]'])\n",
        "    fig.plot(x=[x[0], x[-1]], y=[0, 0], pen='thinner,gray@30')\n",
        "    fig.colorbar(frame = ['x+lVelocity amplitude'],position='x12.5c/0.2c+w5.5c/0.3c+e0.2c+v')\n",
        "    fig.text(x=x[-1]*0.98, y=z[-1]*0.02, justify='RT',\n",
        "             text=f\"t = {tim:6.2f} s\", font='8p,Helvetica,black')\n",
        "\n",
        "    return fig"
      ]
    },
    {
      "cell_type": "code",
      "execution_count": null,
      "id": "846fee08",
      "metadata": {
        "id": "846fee08"
      },
      "outputs": [],
      "source": [
        "plot_wavefield(x, z, Vy, 0.0)"
      ]
    },
    {
      "cell_type": "markdown",
      "id": "928b27a1",
      "metadata": {
        "id": "928b27a1"
      },
      "source": [
        "`pygmt.xyz2grd` により等間隔のグリッドデータを作成し，`pygmt.makecpt` で作成したカラーマップに沿って可視化しています．詳しくはたとえば[このページ](https://tktmyd.github.io/pygmt-howto-jp/mesh.html)に解説があります．\n",
        "\n",
        "$z=0$ に線が引かれているのは地表面で，それより上では$\\mu=0$であり，かつ$\\rho$は非常に小さな値をとります．「真空」という条件からは$\\rho$もゼロにして良さそうですが，実際にはそうすると運動方程式の評価で密度の逆数が計算できなくなってしまいます．"
      ]
    },
    {
      "cell_type": "markdown",
      "id": "e508558c",
      "metadata": {
        "id": "e508558c"
      },
      "source": [
        "それでは，メインの計算部分です．ここではあえて `nt` の値を小さな値に上書きして，短時間の計算を行います．また，コードブロックの先頭に `%time` と書くことで，そのブロックの実行時間を計測します．"
      ]
    },
    {
      "cell_type": "code",
      "execution_count": null,
      "id": "c41ac5e2",
      "metadata": {
        "id": "c41ac5e2"
      },
      "outputs": [],
      "source": [
        "%%time\n",
        "\n",
        "ntdec = 1\n",
        "nt =50 # 最初の50ステップだけ計算\n",
        "\n",
        "for n in range(nt+1):\n",
        "\n",
        "    # 構成関係式\n",
        "    for i in range(nx+1):\n",
        "        for k in range(nz+1):\n",
        "\n",
        "            dxV = (Vy[i+1,k] - Vy[i,k]) / dx\n",
        "            dzV = (Vy[i,k+1] - Vy[i,k]) / dz\n",
        "\n",
        "            Sxy[i,k] += mu[i,k] * dxV * dt\n",
        "            Syz[i,k] += mu[i,k] * dzV * dt\n",
        "\n",
        "    # 運動方程式\n",
        "    for i in range(nx+1):\n",
        "        for k in range(nz+1):\n",
        "            dxSxy = (Sxy[i,k] - Sxy[i-1,k]) / dx\n",
        "            dzSyz = (Syz[i,k] - Syz[i,k-1]) / dz\n",
        "\n",
        "            Vy[i,k] += ( dxSxy + dzSyz ) / rho[i,k] * dt\n",
        "\n",
        "    if n % ntdec == 0:\n",
        "        print(f'\\rcalculating time step ({n}/{nt}): max = {np.max(Vy):.3f}', end='')\n",
        "\n",
        "print()"
      ]
    },
    {
      "cell_type": "markdown",
      "id": "571bd39d",
      "metadata": {
        "id": "571bd39d"
      },
      "source": [
        "だいたい，1時間ステップあたり1秒弱の時間がかかると思います．実は，Pythonには **愚直にループを書くと計算がとても遅い** という顕著な欠点があります．将来のバージョンである程度の改善は見込まれているようですが，大規模な数値シミュレーションはそもそもPythonで書くことが困難です．大規模な数値シミュレーションは，FortranやC++といった（古くから使われている）プログラミング言語で書かれていることが多いです．\n",
        "\n",
        "ですが，ここではあえてPythonで上記の計算を高速化してみます．以下のコードは上記とまったく同じことを行いますが，`i`, `k` 方向の `for` ループを排除しました．これだけで劇的に計算時間が変わります．"
      ]
    },
    {
      "cell_type": "code",
      "execution_count": null,
      "id": "d8c07e63",
      "metadata": {
        "id": "d8c07e63"
      },
      "outputs": [],
      "source": [
        "%%time\n",
        "ntdec = 1\n",
        "nt =50 # 最初の50ステップだけ計算\n",
        "\n",
        "# Pythonのループはとても遅いため，スライス演算をつかって x, z 方向のループを排除\n",
        "for n in range(nt+1):\n",
        "\n",
        "    # 構成関係式\n",
        "    # 全グリッドの空間微分を一括で計算\n",
        "    dxV = (Vy[1:nx+1,0:nz] - Vy[0:nx,0:nz]) / dx\n",
        "    dzV = (Vy[0:nx,1:nz+1] - Vy[0:nx,0:nz]) / dz\n",
        "\n",
        "    # 全グリッドの応力を一括で更新\n",
        "    Sxy[0:nx,0:nz] += mu[0:nx,0:nz] * dxV * dt\n",
        "    Syz[0:nx,0:nz] += mu[0:nx,0:nz] * dzV * dt\n",
        "\n",
        "    # 運動方程式\n",
        "    dxSxy = (Sxy[1:nx,1:nz] - Sxy[0:nx-1,1:nz]) / dx\n",
        "    dzSyz = (Syz[1:nx,1:nz] - Syz[1:nx,0:nz-1]) / dz\n",
        "\n",
        "    Vy[1:nx,1:nz] += ( dxSxy + dzSyz ) / rho[1:nx,1:nz] * dt\n",
        "\n",
        "    if n % ntdec == 0:\n",
        "        print(f'\\rcalculating time step ({n}/{nt}): max = {np.max(Vy):.3f}', end='')\n",
        "\n",
        "print()"
      ]
    },
    {
      "cell_type": "markdown",
      "id": "cb11dfdc",
      "metadata": {
        "id": "cb11dfdc"
      },
      "source": [
        "だいたい100倍くらい計算が速くなりました．これはやや極端な例ですが，数値シミュレーションの世界では，同じ問題でもプログラムの書き方（アルゴリズム）によって，計算の効率が実現可能と不可能を分けるくらいに劇的に変わることがあります．そのため，計算コードの高速化，というのも実はとても大事な研究分野なのです．"
      ]
    },
    {
      "cell_type": "markdown",
      "id": "0ec29e28",
      "metadata": {
        "id": "0ec29e28"
      },
      "source": [
        "それでは，後者のアルゴリズムを踏まえて，計算と可視化を一挙に行うコードを関数としてまとめてみます．\n",
        "この関数は，地震波速度 `beta` の2次元リストを引数にとり，その媒質における地震波を計算します（ただし，与えられた `beta` をそのまま使うのではなく， `z<0` の部分は強制的に `0` にします）．その他のパラメタのいくつかも引数として変更できるようにしてあります．"
      ]
    },
    {
      "cell_type": "code",
      "execution_count": null,
      "id": "270bd9cb",
      "metadata": {
        "id": "270bd9cb"
      },
      "outputs": [],
      "source": [
        "def gif_movie(figs, dpi=720, crop='0.5c'):\n",
        "\n",
        "    \"\"\"\n",
        "    PyGMTのFigureオブジェクトのリストからGifアニメーションを作成する．Jupyter Notebook上で表示されるオブジェクトを返す．\n",
        "\n",
        "    Parameters\n",
        "    ----------\n",
        "    figs : list of Figure\n",
        "        PyGMTのFigureオブジェクトのリスト\n",
        "    dpi : int, optional\n",
        "        解像度 (default: 720)\n",
        "    crop : str, optional\n",
        "        余白のトリミング量 (default: '0.5c')\n",
        "\n",
        "    Returns\n",
        "    -------\n",
        "    HTML : IPython.display.HTML\n",
        "        Gifアニメーション\n",
        "    \"\"\"\n",
        "    from IPython import display as dd\n",
        "    import tempfile\n",
        "    import base64\n",
        "    import os\n",
        "\n",
        "    with tempfile.TemporaryDirectory() as tmpdir:\n",
        "        for i, fig in enumerate(figs):\n",
        "            figname = f'plot_{i:05d}.png'\n",
        "            print(f'\\rsaving figs ... ({(i+1)/len(figs)*100:5.1f}%)', end='')\n",
        "            fig.savefig(os.path.join(tmpdir, figname), dpi=dpi, crop=crop)\n",
        "        print(' Done.')\n",
        "\n",
        "        cmd1 = f'ffmpeg -i {tmpdir}/plot_%5d.png '\n",
        "        cmd2 = f' -vf \"scale=800:-1,split [a][b];[a] palettegen [p];[b][p] paletteuse\" '\n",
        "        cmd3 = f' {tmpdir}/out.gif > /dev/null 2>&1'\n",
        "        print(f'making gif ... ', end='')\n",
        "        os.system(cmd1 + cmd2 + cmd3)\n",
        "        print(' Done.')\n",
        "\n",
        "        with open(f'{tmpdir}/out.gif', 'rb') as f:\n",
        "            b64 = base64.b64encode(f.read()).decode(\"ascii\")\n",
        "\n",
        "    return dd.HTML(f'<img src=\"data:image/gif;base64,{b64}\" width=\"80%\"/>')"
      ]
    },
    {
      "cell_type": "code",
      "execution_count": null,
      "id": "0c0292a1",
      "metadata": {
        "id": "0c0292a1"
      },
      "outputs": [],
      "source": [
        "def fdmsh(beta, dx=0.2, dz=0.2, dt=0.02, nt=1200, W=20):\n",
        "\n",
        "    nx = np.shape(beta)[0] - 2\n",
        "    nz = np.shape(beta)[1] - 2\n",
        "\n",
        "\n",
        "    rho = np.zeros([nx+2, nz+2]) # 密度\n",
        "    mu  = np.zeros([nx+2, nz+2]) # 合成率\n",
        "    Vy  = np.zeros([nx+2, nz+2]) # 粒子速度（SH波）\n",
        "    Sxy = np.zeros([nx+2, nz+2]) # 応力 σxy\n",
        "    Syz = np.zeros([nx+2, nz+2]) # 応力 σyz\n",
        "\n",
        "    # 座標系\n",
        "    x = np.linspace(0, nx*dx, nx+1)\n",
        "    z = np.linspace(0, nz*dz, nz+1) - 5 # z=0 を地表面にするため，マイナスの値から始める\n",
        "\n",
        "    for k in range(nz+1):\n",
        "\n",
        "        # 地表面より上\n",
        "        # 密度は，ゼロで割れないので形式上小さな値を与える\n",
        "        if z[k] < 0:\n",
        "            mu [:,k] = 0.0 # 剛性率はゼロ\n",
        "            rho[:,k] = 0.001\n",
        "            beta[:,k] = 0.0\n",
        "        else: # 地下\n",
        "            for i in range(nx+1):\n",
        "                rho[i,k] = 2.7\n",
        "                mu[i,k] = rho[i,k] * beta[i,k] * beta[i,k]\n",
        "\n",
        "    W = 20\n",
        "    for k in range(nz//4-W, nz//4+W):\n",
        "        for i in range(nx//2-W, nx//2+W):\n",
        "            Vy[i,k] = np.cos(np.pi / 2.0 * (i - nx / 2 ) / W)**3 \\\n",
        "                    * np.cos(np.pi / 2.0 * (k - nz / 4 ) / W)**3\n",
        "\n",
        "    n = 0 # time step\n",
        "\n",
        "    figs = []\n",
        "    figs.append(plot_wavefield(x, z, Vy, n * dt))\n",
        "\n",
        "    ntdec = 10\n",
        "\n",
        "    for n in range(nt+1):\n",
        "\n",
        "        # 構成関係式\n",
        "        # 全グリッドの空間微分を一括で計算\n",
        "        dxV = (Vy[1:nx+1,0:nz] - Vy[0:nx,0:nz]) / dx\n",
        "        dzV = (Vy[0:nx,1:nz+1] - Vy[0:nx,0:nz]) / dz\n",
        "\n",
        "        # 全グリッドの応力を一括で更新\n",
        "        Sxy[0:nx,0:nz] += mu[0:nx,0:nz] * dxV * dt\n",
        "        Syz[0:nx,0:nz] += mu[0:nx,0:nz] * dzV * dt\n",
        "\n",
        "        # 運動方程式\n",
        "        dxSxy = (Sxy[1:nx,1:nz] - Sxy[0:nx-1,1:nz]) / dx\n",
        "        dzSyz = (Syz[1:nx,1:nz] - Syz[1:nx,0:nz-1]) / dz\n",
        "\n",
        "        Vy[1:nx,1:nz] += ( dxSxy + dzSyz ) / rho[1:nx,1:nz] * dt\n",
        "\n",
        "        if n % ntdec == 0:\n",
        "            print(f'\\rcalculating time step ({n}/{nt}): max = {np.max(Vy):.3f}', end='')\n",
        "            figs.append(plot_wavefield(x, z, Vy, n * dt))\n",
        "\n",
        "    print()\n",
        "\n",
        "    return gif_movie(figs)\n"
      ]
    },
    {
      "cell_type": "code",
      "execution_count": null,
      "id": "6f2ccf5a",
      "metadata": {
        "id": "6f2ccf5a"
      },
      "outputs": [],
      "source": [
        "fdmsh(np.ones([802, 402]) * 4.0)"
      ]
    },
    {
      "cell_type": "code",
      "execution_count": null,
      "id": "6596af7e",
      "metadata": {
        "id": "6596af7e"
      },
      "outputs": [],
      "source": []
    }
  ],
  "metadata": {
    "colab": {
      "include_colab_link": true,
      "provenance": []
    },
    "kernelspec": {
      "display_name": "seismo24",
      "language": "python",
      "name": "python3"
    },
    "language_info": {
      "codemirror_mode": {
        "name": "ipython",
        "version": 3
      },
      "file_extension": ".py",
      "mimetype": "text/x-python",
      "name": "python",
      "nbconvert_exporter": "python",
      "pygments_lexer": "ipython3",
      "version": "3.12.5"
    }
  },
  "nbformat": 4,
  "nbformat_minor": 5
}
