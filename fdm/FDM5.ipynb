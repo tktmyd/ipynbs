{
  "cells": [
    {
      "cell_type": "markdown",
      "id": "d98ca65b",
      "metadata": {
        "colab_type": "text",
        "id": "view-in-github"
      },
      "source": [
        "<a href=\"https://colab.research.google.com/github/tktmyd/ipynbs/blob/main/fdm/FDM4.ipynb\" target=\"_parent\"><img src=\"https://colab.research.google.com/assets/colab-badge.svg\" alt=\"Open In Colab\"/></a>"
      ]
    },
    {
      "cell_type": "markdown",
      "id": "422f797b-03a9-409c-9b9a-a53f4483fac1",
      "metadata": {
        "id": "422f797b-03a9-409c-9b9a-a53f4483fac1"
      },
      "source": [
        "# 2次元SH問題"
      ]
    },
    {
      "cell_type": "code",
      "execution_count": null,
      "id": "8f3c080d",
      "metadata": {
        "id": "8f3c080d"
      },
      "outputs": [],
      "source": [
        "import numpy as np\n",
        "import sys\n",
        "if 'google.colab' in sys.modules:\n",
        "    print(\"Installing pygmt on Google Colab. It may take a few minutes.\")\n",
        "    ! pip install -q condacolab &> /dev/null\n",
        "    import condacolab\n",
        "    condacolab.install()\n",
        "    ! mamba install pygmt &> /dev/null\n",
        "import pygmt"
      ]
    },
    {
      "cell_type": "markdown",
      "id": "d4fb6bce",
      "metadata": {},
      "source": [
        "ここでは，発展問題として，2次元SH問題のスタガードグリッド差分法数値シミュレーションを行います．3次元の運動方程式と構成関係式に対して，$x_2$ 成分の微分がゼロであるという仮定のもと，$x_1$-$x_3$断面における波動伝播を考えます．すると，運動方程式と構成関係式は2組の方程式に分離することができ，そのうちの片方は以下のようなものになります．\n",
        "$$\n",
        "\\begin{align}\n",
        "\t\t & \\rho \\frac{\\partial v_2}{\\partial t} =\n",
        "\t\t\\frac{\\partial \\sigma_{13}}{\\partial x} +\n",
        "\t\t\\frac{\\partial \\sigma_{23}}{\\partial z}\n",
        "\t\t\\\\\n",
        "\t\t & \\frac{\\partial \\sigma_{23}}{\\partial t} =\n",
        "\t\t\\mu\n",
        "\t\t\\frac{\\partial v_2}{\\partial x_3}\n",
        "    , \\quad \\frac{\\partial \\sigma_{12}}{\\partial t} =\n",
        "\t\t\\mu\n",
        "\t\t\\frac{\\partial v_2}{\\partial x_1}\n",
        "\\end{align}\n",
        "$$\n",
        "\n",
        "もし$x_3$方向を深さとして取ると，$v_2$は面外方向に水平に振動する成分ですから，$SH$波を表します．ここに示していない残りの$v_1$, $v_3$に関する方程式は $P$-$SV$ 波を表します．\n",
        "\n",
        "表記を簡単にするため，$x_1\\rightarrow x$, $x_3 \\rightarrow z$と置き換えます．すると上記の方程式は\n",
        "\n",
        "$$\n",
        "\\begin{align}\n",
        "\t\t & \\frac{\\partial v_y}{\\partial t} =\n",
        "\t\t \\frac{1}{\\rho} \\left(\n",
        "\t\t\\frac{\\partial \\sigma_{xy}}{\\partial x} +\n",
        "\t\t\\frac{\\partial \\sigma_{yz}}{\\partial z}\n",
        "\t\t\\right)\n",
        "\t\t\\\\\n",
        "\t\t & \\frac{\\partial \\sigma_{yz}}{\\partial t} =\n",
        "\t\t\\mu\n",
        "\t\t\\frac{\\partial v_y}{\\partial z}\n",
        "\t\t%\\\\\n",
        "\t\t% & \n",
        "    , \\quad \\frac{\\partial \\sigma_{xy}}{\\partial t} =\n",
        "\t\t\\mu\n",
        "\t\t\\frac{\\partial v_y}{\\partial x}\n",
        "\\end{align}\n",
        "$$\n",
        "\n",
        "と表されます．もし$\\mu$が空間一様ならば，運動方程式の時間微分に構成関係式を代入すると，\n",
        "\n",
        "$$\n",
        "\\frac{\\partial^2 v_y}{\\partial t^2} = \\frac{\\mu}{\\rho}\n",
        "\\left( \\frac{\\partial^2 v_y}{\\partial x^2} + \\frac{\\partial^2 v_y}{\\partial z^2} \\right)\n",
        "$$\n",
        "となり，これは速度$\\beta = \\sqrt{\\mu/\\rho}$ の2次元波動方程式にほかなりません．"
      ]
    },
    {
      "cell_type": "markdown",
      "id": "00f98620",
      "metadata": {
        "id": "00f98620"
      },
      "source": [
        "## 方程式の離散化"
      ]
    },
    {
      "cell_type": "markdown",
      "id": "57106323",
      "metadata": {},
      "source": [
        "1次元の問題と同じように，まず空間微分から離散化しましょう．\n",
        "\n",
        "$$\n",
        "x_I = x_0 + I \\Delta x, z_K = z_0 + K \\Delta z\n",
        "$$\n",
        "\n",
        "というふうに，$x, z$方向をそれぞれ$\\Delta x$, $\\Delta z$で離散化します．そのときの値を，たとえば\n",
        "\n",
        "$$\n",
        "v_{y\\,(I-1/2,K-1/2)}(t) = v_y (x_{I-1/2}, z_{K-1/2}, t)\n",
        "$$\n",
        "のように表します．スタガードグリッドでは必要に応じてグリッド位置が 1/2 だけズレるのも，1次元の問題と同じです．\n",
        "\n",
        "うまく位置を組み合わせると，$SH$問題の方程式は，\n",
        "\n",
        "$$\n",
        "\\begin{align}\n",
        "& \\sigma_{xy\\,(I, K-1/2)}(t+\\Delta t/2)\n",
        "=\n",
        "\\sigma_{xy\\,(I, K-1/2)}(t-\\Delta t/2) +\n",
        "\\mu_{(I, K-1/2)}\n",
        "\\frac{v_{y,(I+1/2,K-1/2)} (t) - v_{y,(I-1/2,K-1/2)}(t)}{\\Delta x} \\Delta t\n",
        "\\\\\n",
        " & \\sigma_{yz\\,(I-1/2, K)}(t+\\Delta t/2)\n",
        "= \\sigma_{yz\\,(I-1/2, K)}(t-\\Delta t/2) +\n",
        "\t\\mu_{(I-1/2, K)}\n",
        "    \\frac{v_{y,(I-1/2,K+1/2)}(t) - v_{y,(I-1/2,K-1/2)}(t)}{\\Delta z} \\Delta t\n",
        "\\\\\n",
        "& \t\tv_{y\\,(I-1/2, K-1/2)}(t+\\Delta t)\n",
        "\t\t=\n",
        "\t\tv_{y\\,(I-1/2, K-1/2)}(t)\n",
        "\t\t\\notag \\\\&\\quad +\n",
        "\t\t\\frac{1}{\\rho_{(I-1/2, K-1/2)}} \\left[\n",
        "            \\frac{\\sigma_{xy\\,(I, K-1/2)}(t+\\Delta t/2) - \\sigma_{xy\\,(I-1, K-1/2)}(t+\\Delta t/2)}{\\Delta x} \n",
        "            \\right. \\notag\\\\\n",
        "            &\\qquad \\left. \n",
        "            +\n",
        "            \\frac{\\sigma_{yz\\,(I-1/2, K)}(t+\\Delta t/2) - \\sigma_{yz\\,(I-1/2, K-1)}(t+\\Delta t/2)}{\\Delta z}\n",
        "        \\right] \\Delta t\n",
        "\\end{align}\n",
        "$$"
      ]
    },
    {
      "cell_type": "markdown",
      "id": "cb92bac7",
      "metadata": {},
      "source": []
    },
    {
      "cell_type": "markdown",
      "id": "9916f6f4",
      "metadata": {},
      "source": []
    },
    {
      "cell_type": "markdown",
      "id": "1e404d22",
      "metadata": {},
      "source": []
    }
  ],
  "metadata": {
    "colab": {
      "include_colab_link": true,
      "provenance": []
    },
    "kernelspec": {
      "display_name": "seismo24",
      "language": "python",
      "name": "python3"
    },
    "language_info": {
      "codemirror_mode": {
        "name": "ipython",
        "version": 3
      },
      "file_extension": ".py",
      "mimetype": "text/x-python",
      "name": "python",
      "nbconvert_exporter": "python",
      "pygments_lexer": "ipython3",
      "version": "3.12.5"
    }
  },
  "nbformat": 4,
  "nbformat_minor": 5
}
