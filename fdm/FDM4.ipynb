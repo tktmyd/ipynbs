{
 "cells": [
  {
   "cell_type": "markdown",
   "id": "422f797b-03a9-409c-9b9a-a53f4483fac1",
   "metadata": {},
   "source": [
    "# 1次元問題の差分法シミュレーション：実践編"
   ]
  },
  {
   "cell_type": "code",
   "execution_count": 2,
   "id": "8f3c080d",
   "metadata": {},
   "outputs": [],
   "source": [
    "import numpy as np\n",
    "import sys\n",
    "if 'google.colab' in sys.modules:\n",
    "    print(\"Installing pygmt on Google Colab. It may take a few minutes.\")\n",
    "    ! pip install -q condacolab &> /dev/null\n",
    "    import condacolab\n",
    "    condacolab.install()\n",
    "    ! mamba install pygmt &> /dev/null\n",
    "import pygmt"
   ]
  },
  {
   "cell_type": "markdown",
   "id": "2cf0020b",
   "metadata": {},
   "source": [
    "これまでに導いた1次元差分法のアルゴリズム"
   ]
  },
  {
   "cell_type": "markdown",
   "id": "ac8e5f9c",
   "metadata": {},
   "source": [
    "$$\n",
    "\\begin{align}\n",
    "\t &\t\\sigma_i \\leftarrow \\sigma_i\n",
    "\t + \n",
    "\t G_i \\frac{v_i - v_{i-1} }{\\Delta x} \\Delta t \n",
    "\t\\\\\n",
    "\t & v_i  \\leftarrow  v_i\n",
    "\t + \n",
    "\t \\frac{1}{\\rho_i } \n",
    "\t \\frac{\\sigma_{i+1} - \\sigma_{i-1} }{\\Delta x} \\Delta t\n",
    "\\end{align}\n",
    "$$\n",
    "を使って，実際に波動の伝播をシミュレーションしてみましょう．"
   ]
  },
  {
   "cell_type": "markdown",
   "id": "9cb6a8c2",
   "metadata": {},
   "source": [
    "これから作るプログラムは，\n",
    "\n",
    "- パラメタの設定と変数（メモリ）の確保\n",
    "- 初期条件の設定\n",
    "- 差分法による時間発展の計算とデータ出力\n",
    "\n",
    "という部分からなります．導出したアルゴリズムはこのうちの一番最後の部分ですが，その計算のまえにいくらかの準備が必要です．"
   ]
  },
  {
   "cell_type": "markdown",
   "id": "68320e50",
   "metadata": {},
   "source": [
    "この数値シミュレーションでは，空間 $x$ と時間 $t$ を離散化していますから，それぞれの離散化幅 $\\Delta x$, $\\Delta t$ を定める必要があります．また，無限に広い領域の計算をするわけにはいきませんから，空間と時間それぞれについてのグリッドの個数も定めます．\n",
    "\n",
    "これらのパラメタをどうやって適切に定めるのか，は重要な話題なのですが，ここではまず実践ということで，適当に値を設定してみます．"
   ]
  },
  {
   "cell_type": "code",
   "execution_count": 3,
   "id": "96cfe1c1",
   "metadata": {},
   "outputs": [],
   "source": [
    "dx = 0.2               # 空間グリッドサイズ (km)\n",
    "dt = 0.05              # 時間ステップサイズ (s)\n",
    "nx = 1001              # 空間グリッド数\n",
    "nt = 401               # 時間ステップ数\n",
    "\n",
    "V   = np.zeros(nx+1)   # 変位速度 V[0] ... V[nx] をゼロで確保．以下同様\n",
    "S   = np.zeros(nx+2)   # 応力\n",
    "rho = np.zeros(nx+1)   # 質量密度\n",
    "G   = np.zeros(nx+1)   # 弾性係数"
   ]
  },
  {
   "cell_type": "markdown",
   "id": "0d20de40",
   "metadata": {},
   "source": [
    "ここでは，`np.zeros` 関数を用いてメモリを確保しました．この関数は引数に与えられた個数リストを確保し，その値をすべて `0` で初期化します．プログラミング言語ではギリシャ文字は使いにくい（Pythonでは使えないこともないが，入力が不便）のため，$\\sigma$ は `S`, $\\rho$ は `rho` としました．"
   ]
  },
  {
   "cell_type": "markdown",
   "id": "a3a162e8",
   "metadata": {},
   "source": [
    "続けて，媒質と初期条件の設定です．数値シミュレーションの中では，質量密度と剛性率が必要です．一方，地震学的には剛性率そのものよりも地震波速度のほうがわかりやすいので，ここでは\n",
    "$\\beta = \\sqrt{G/\\rho}$ として，地震波速度 $\\beta$ を通じて媒質を特徴づけることにします．"
   ]
  },
  {
   "cell_type": "code",
   "execution_count": 4,
   "id": "0e04dfe5",
   "metadata": {},
   "outputs": [],
   "source": [
    "# 媒質の設定\n",
    "for i in range(nx+1):\n",
    "    beta   = 4.0                   # 仮定する地震波速度 (km/s)\n",
    "    rho[i] = 2.7                   # 仮定する質量密度 (g/cm^3)\n",
    "    G[i]   = rho[i] * beta * beta  # 剛性率に換算\n",
    "\n",
    "x = np.linspace(0, dx*(nx-1), nx+1)"
   ]
  },
  {
   "cell_type": "markdown",
   "id": "d3f30310",
   "metadata": {},
   "source": [
    "ここでは，地震波速度を 4 km/s の一定値，質量密度を 2.7 g/cm$^3$ の一定値としました．また，あとで用いるため，$x$軸にそった各セルの位置の座標値を，`x` というリストに設定しました．`np.linspace()` は指定範囲内で等間隔の数列を生成する関数です．"
   ]
  },
  {
   "cell_type": "markdown",
   "id": "c5fd4560",
   "metadata": {},
   "source": [
    "さらにつづけて初期条件を設定します．本当の断層運動による地震波の生成は，複数の等価体積力の組み合わせで得られるのですが，ここでは簡単のため，粒子速度$v$があらかじめ有限の値を持っていた，という状態を初期値として設定してみます．"
   ]
  },
  {
   "cell_type": "code",
   "execution_count": 5,
   "id": "96a2a6a2",
   "metadata": {},
   "outputs": [],
   "source": [
    "L  = 8.0               # 初期条件の波長 (km)\n",
    "\n",
    "# 初期条件\n",
    "hw = int(L/2/dx + 0.5) # 半値幅\n",
    "for i in range(-hw, hw+1):\n",
    "    V[int((nx - 1)/2)+1+i] = np.cos(np.pi/2.0*i/hw)**2\n",
    "\n",
    "n = 0 # 時間ステップの値（ファイル名に利用）\n",
    "\n",
    "# 結果出力ファイル\n",
    "with open(f'out_{n*dt:08.4f}_.dat', 'w') as fp:\n",
    "    for i in range(nx+1):\n",
    "        print(f\"{(i-1)*dx:12.4e} {V[i]:12.4e}\", file=fp)    "
   ]
  },
  {
   "cell_type": "markdown",
   "id": "6b75c482",
   "metadata": {},
   "source": [
    "上記のコードは，変数 `L` で指定した長さの幅をもつ，$\\cos$関数で表されるような滑らかなベル型の初期条件を $x$ 軸中央に設定しています．このコードを実行すると，$x$と$v$の値がファイル `out_000.0000_.dat` に出力されますから，それを読み込んでプロットしてみましょう．"
   ]
  },
  {
   "cell_type": "code",
   "execution_count": 8,
   "id": "b4a171b9",
   "metadata": {},
   "outputs": [
    {
     "name": "stdout",
     "output_type": "stream",
     "text": [
      "[[ -0.2   0.    0.2 ... 199.6 199.8 200. ]\n",
      " [  0.    0.    0.  ...   0.    0.    0. ]]\n"
     ]
    }
   ],
   "source": [
    "d = np.loadtxt(f'out_000.0000_.dat').T\n",
    "print(d)"
   ]
  },
  {
   "cell_type": "markdown",
   "id": "43b1f53e",
   "metadata": {},
   "source": [
    "`np.loadtxt`は読み込んだファイルを1行ずつのリストにしますが，いま欲しいのは1列ずつのリストです．そこで，`loadtxt`のあとに `.T` （行列の転置）をつけることによって列ごとのデータに変換しています．ここまでくれば，プロットは簡単です．"
   ]
  },
  {
   "cell_type": "code",
   "execution_count": 10,
   "id": "265eb541",
   "metadata": {},
   "outputs": [
    {
     "data": {
      "image/png": "[encoded data removed]",
      "text/plain": [
       "<IPython.core.display.Image object>"
      ]
     },
     "metadata": {
      "image/png": {
       "width": 500
      }
     },
     "output_type": "display_data"
    }
   ],
   "source": [
    "fig = pygmt.Figure()\n",
    "with pygmt.config(MAP_GRID_PEN_PRIMARY = '0.25p,30/30/30,.'): \n",
    "    fig.basemap(projection='X12c/6c', region=[0, 200, -0.1, 1.1], \n",
    "            frame = ['WS', 'xafg+ldistance [km]', \n",
    "                           'yafg+lvelocity amplitude'])\n",
    "    fig.plot(x=d[0], y=d[1], pen='thicker,150/100/250')\n",
    "fig.show()"
   ]
  },
  {
   "cell_type": "markdown",
   "id": "d077e9c4",
   "metadata": {},
   "source": [
    "たしかに，中央付近に初期条件が設定されていることがわかります．"
   ]
  },
  {
   "cell_type": "markdown",
   "id": "99e4b114",
   "metadata": {},
   "source": [
    "それでは，いよいよスタガードグリッド差分法の中核部分です．"
   ]
  },
  {
   "cell_type": "code",
   "execution_count": 12,
   "id": "20b11764",
   "metadata": {},
   "outputs": [],
   "source": [
    "# 時間発展\n",
    "for n in range(1, nt+1):\n",
    "\n",
    "    # 構成関係式\n",
    "    for i in range(1, nx+1):\n",
    "        dxV = ( V[i] - V[i-1] ) / dx # 変位速度の空間微分\n",
    "        S[i] += G[i] * dxV * dt      # 応力の更新\n",
    "\n",
    "    # 運動方程式\n",
    "    for i in range(1, nx+1):\n",
    "        dxS = ( S[i+1] - S[i] ) / dx # 応力の空間微分\n",
    "        V[i] += dxS / rho[i] * dt    # 変位速度の更新\n",
    "\n",
    "    # ( n % m == 0 ) は m 回に1回 True になることを利用して出力を間引き\n",
    "    if n % 5 == 0:\n",
    "        with open(f'out_{n*dt:08.4f}_.dat', 'w') as fp:\n",
    "            for i in range(nx+1):\n",
    "                print(f\"{(i-1)*dx:12.4e} {V[i]:12.4e}\", file=fp)"
   ]
  },
  {
   "cell_type": "markdown",
   "id": "3a7487f5",
   "metadata": {},
   "source": [
    "一番外側に時間についてのループがあり，`n=0, 1, ..., nt` まで繰り返します．内側には空間についてのループが2つあり，それぞれ構成関係式・運動方程式に対応しています．それぞれのループ内で行っている計算は，本ノートブックの先頭にかかれているアルゴリズムとまったく同じです．\n",
    "\n",
    "一方，コードの後半では計算結果の出力をしています．毎時間ステップのデータを出力するとやや分量が多いため，`n % 5 == 0` という条件を課して，5ステップごとにデータを出力するようにしています．出力ファイルは，`out_時間_.dat` という名前で保存されます．このひとつひとつのデータは，初期条件をプロットしたスクリプトと同様に可視化することができます．"
   ]
  },
  {
   "cell_type": "markdown",
   "id": "531964ba-06b2-4172-961f-7f31909403d3",
   "metadata": {},
   "source": [
    "### 実践 1次元地震波数値シミュレーション"
   ]
  },
  {
   "cell_type": "markdown",
   "id": "0f1174e5-3800-4336-b764-be1676bb247a",
   "metadata": {},
   "source": [
    "では，いきなりですが，ここまでで得られたアルゴリズムを踏まえて数値シミュレーションを実施してみましょう．"
   ]
  },
  {
   "cell_type": "code",
   "execution_count": null,
   "id": "68910699-6feb-41d6-a112-61d46aeacf7f",
   "metadata": {},
   "outputs": [],
   "source": [
    "dx = 0.2               # 空間グリッドサイズ (km)\n",
    "dt = 0.05              # 時間ステップサイズ (s)\n",
    "nx = 1001              # 空間グリッド数\n",
    "nt = 401               # 時間ステップ数\n",
    "L  = 8.0               # 初期条件の波長 (km)\n",
    "\n",
    "V   = np.zeros(nx+1)   # 変位速度\n",
    "S   = np.zeros(nx+2)   # 応力\n",
    "rho = np.zeros(nx+1)   # 質量密度\n",
    "G   = np.zeros(nx+1)   # 弾性係数\n",
    "\n",
    "# 媒質の設定\n",
    "beta   = 4.0               # 仮定する地震波速度 (km/s)\n",
    "rho[:] = 2.7               # 仮定する質量密度 (g/cm^3)\n",
    "G[:]   = rho * beta * beta # 剛性率 G = ρ x β^2\n",
    "\n",
    "# 初期条件\n",
    "hw = int(L/2/dx + 0.5)\n",
    "for i in range(-hw, hw+1):\n",
    "    V[int((nx - 1)/2)+1+i] = np.cos(np.pi/2.0*i/hw)**2\n",
    "\n",
    "# 結果出力ファイルの準備と初期状態の出力\n",
    "n = 0\n",
    "fp = open('out.dat', 'w')\n",
    "for i in range(1, nx+1):\n",
    "    print(f\"{(i-1)*dx:12.4e} {n*dt:12.4e} {V[i]:12.4e} {S[i]:12.4e}\", \n",
    "          file=fp)\n",
    "\n",
    "# 時間発展\n",
    "for n in range(1, nt+1):\n",
    "   \n",
    "    # 構成関係式\n",
    "    for i in range(1, nx+1):\n",
    "        dxV = ( V[i] - V[i-1] ) / dx\n",
    "        S[i] += G[i] * dxV * dt\n",
    "\n",
    "    # 運動方程式\n",
    "    for i in range(1, nx+1):\n",
    "        dxS = ( S[i+1] - S[i] ) / dx\n",
    "        V[i] += dxS / rho[i] * dt\n",
    "\n",
    "    # データ出力\n",
    "    for i in range(1, nx+1):\n",
    "        print(f\"{(i-1)*dx:12.4e} {n*dt:12.4e} {V[i]:12.4e} {S[i]:12.4e}\", \n",
    "              file=fp)\n",
    "    \n",
    "fp.close()"
   ]
  },
  {
   "cell_type": "markdown",
   "id": "28ca50b9-54ae-4cb9-a82e-9e2e753c9746",
   "metadata": {},
   "source": [
    "コメントに「時間発展」とか書かれているところから先が差分法による数値シミュレーションのメイン部分です．数式通りに，まず右辺の空間微分を差分近似で評価し，時間差分を整理した結果をつかって左辺の値をアップーデートする，という流れで計算が進んでいることがわかるでしょうか．"
   ]
  },
  {
   "cell_type": "markdown",
   "id": "cebcf62f-983e-4aa2-b54c-1114277360fe",
   "metadata": {},
   "source": [
    "上記コードを実行すると，`out.dat` というファイルが作られます．その中身の一部を取り出してみると，\n",
    "\n",
    "```\n",
    "  4.8200e+01   1.2800e+01   4.8168e-01   5.0092e+00\n",
    "  4.8400e+01   1.2800e+01   4.9384e-01   5.2022e+00\n",
    "  4.8600e+01   1.2800e+01   5.0000e-01   5.3335e+00\n",
    "  4.8800e+01   1.2800e+01   5.0000e-01   5.4000e+00\n",
    "  4.9000e+01   1.2800e+01   4.9384e-01   5.4000e+00\n",
    "  4.9200e+01   1.2800e+01   4.8168e-01   5.3335e+00\n",
    "```\n",
    "\n",
    "のように4列からなるデータです．このデータは，左2列から位置 `x`, 時刻 `t`で，その位置と時間における変位速度 `V`, 応力 `S` の変数が3列目と4列目に格納されています．つまりこのデータ一つで，地震波の時間・空間両方の広がりが記述されていることになります．\n",
    "\n",
    "いま興味があるのは位置・時間と変位速度ですので，結果ファイルからこれらを取り出します．"
   ]
  },
  {
   "cell_type": "code",
   "execution_count": null,
   "id": "550ae019-1b2d-4d17-8d02-c5fe23e82f5a",
   "metadata": {},
   "outputs": [],
   "source": [
    "d = np.loadtxt('out.dat') # 1行ずつのリストの集合体として読み込まれる\n",
    "xx, tt, VV, _  = d.T      # 転置 `.T` により1列ごとのデータに変換する"
   ]
  },
  {
   "cell_type": "markdown",
   "id": "5067c8a4-5417-47bb-a1ed-ab15a03fe731",
   "metadata": {},
   "source": [
    "このデータを可視化してみます．各地点における地震波形のレコードセクションを作成してみましょう．"
   ]
  },
  {
   "cell_type": "code",
   "execution_count": null,
   "id": "bd9d99fc-8458-4b49-b676-1f03c8d1d03d",
   "metadata": {},
   "outputs": [],
   "source": [
    "def wvplot_record(xx, tt, VV): \n",
    "    \"\"\"シミュレーション結果のレコードセクション表示\"\"\"\n",
    "\n",
    "    scale = 25\n",
    "    \n",
    "    fig = pygmt.Figure()\n",
    "\n",
    "    fig.basemap(projection='X12c/8c', region=[0, 20, 0, 200], \n",
    "                frame = ['WS', 'xaf+ltime [s]', 'yaf+ldistance [km]'])\n",
    "    \n",
    "    for x in np.arange(0, 200, 2):\n",
    "\n",
    "        # 位置 xx がループ変数 x に十分に近いところの時間・変位速度を取り出す\n",
    "        mask = np.where(np.isclose(xx, x))\n",
    "        ttt = tt[mask]\n",
    "        VVV = VV[mask]\n",
    "\n",
    "        # y軸位置を距離分だけずらしてプロットする\n",
    "        fig.plot(x=ttt, y=x+VVV*scale, pen='thinner,black@50')\n",
    "\n",
    "    return fig"
   ]
  },
  {
   "cell_type": "code",
   "execution_count": null,
   "id": "370e2335-3a42-474f-a404-b0f9fc40f319",
   "metadata": {},
   "outputs": [],
   "source": [
    "wvplot_record(xx, tt, VV)"
   ]
  },
  {
   "cell_type": "markdown",
   "id": "fd14ad5b-9998-4a55-9d47-473f42ea2141",
   "metadata": {},
   "source": [
    "続けて，振幅分布のアニメーションです．以下の関数 `wvplot_anim` は，時刻 0 から 20秒まで，0.2秒ずつの振幅分布をすべて作成します．それをパラパラマンガとして動画化してくれるのが，その次の `gif_movie` 関数です．"
   ]
  },
  {
   "cell_type": "code",
   "execution_count": null,
   "id": "5ee92c82-97b9-410d-8487-d291cac34c6c",
   "metadata": {},
   "outputs": [],
   "source": [
    "def wvplot_anim(xx, tt, VV): \n",
    "\n",
    "    figs = []\n",
    "\n",
    "    for t in np.arange(0, 20, 0.2):\n",
    "\n",
    "        fig = pygmt.Figure()\n",
    "        with pygmt.config(MAP_GRID_PEN_PRIMARY = '0.25p,30/30/30,.'): \n",
    "            fig.basemap(projection='X12c/6c', region=[0, 200, -0.1, 1.1], \n",
    "                        frame = ['WS', \n",
    "                                 'xafg+ldistance [km]', \n",
    "                                 'yafg+lvelocity amplitude'])\n",
    "        mask = np.where(np.isclose(tt, t))\n",
    "        xxx = xx[mask]\n",
    "        VVV = VV[mask]\n",
    "    \n",
    "        fig.plot(x=xxx, y=VVV, pen='thicker,150/100/250')\n",
    "        fig.text(x=198, y = 0.98, justify='RT', text=f\"t = {t:5.1f} s\", \n",
    "                 font='12p,Helvetica,Black')\n",
    "        figs.append(fig)\n",
    "\n",
    "    return figs"
   ]
  },
  {
   "cell_type": "code",
   "execution_count": null,
   "id": "25e70bad-48b1-4183-aca9-8894032834e4",
   "metadata": {},
   "outputs": [],
   "source": [
    "def gif_movie(figs, dpi=720, crop='0.5c'): \n",
    "    \n",
    "    \"\"\"\n",
    "    PyGMTのFigureオブジェクトのリストからGifアニメーションを作成する．Jupyter Notebook上で表示されるオブジェクトを返す．\n",
    "\n",
    "    Parameters\n",
    "    ----------\n",
    "    figs : list of Figure\n",
    "        PyGMTのFigureオブジェクトのリスト\n",
    "    dpi : int, optional\n",
    "        解像度 (default: 720)\n",
    "    crop : str, optional\n",
    "        余白のトリミング量 (default: '0.5c')\n",
    "\n",
    "    Returns\n",
    "    -------\n",
    "    HTML : IPython.display.HTML\n",
    "        Gifアニメーション\n",
    "    \"\"\"\n",
    "    from IPython import display as dd\n",
    "    import tempfile\n",
    "    import base64\n",
    "    import os\n",
    "    \n",
    "    with tempfile.TemporaryDirectory() as tmpdir:\n",
    "        for i, fig in enumerate(figs):\n",
    "            figname = f'plot_{i:05d}.png'\n",
    "            print(f'\\rsaving figs ... ({(i+1)/len(figs)*100:5.1f}%)', end='')\n",
    "            fig.savefig(os.path.join(tmpdir, figname), dpi=dpi, crop=crop)\n",
    "        print(' Done.')\n",
    "        \n",
    "        cmd1 = f'ffmpeg -i {tmpdir}/plot_%5d.png '\n",
    "        cmd2 = f' -vf \"scale=800:-1,split [a][b];[a] palettegen [p];[b][p] paletteuse\" '\n",
    "        cmd3 = f' {tmpdir}/out.gif > /dev/null 2>&1'\n",
    "        print(f'making gif ... ', end='')\n",
    "        os.system(cmd1 + cmd2 + cmd3)\n",
    "        print(' Done.')\n",
    "        \n",
    "        with open(f'{tmpdir}/out.gif', 'rb') as f:\n",
    "            b64 = base64.b64encode(f.read()).decode(\"ascii\")\n",
    "        \n",
    "    return dd.HTML(f'<img src=\"data:image/gif;base64,{b64}\" width=\"80%\"/>')"
   ]
  },
  {
   "cell_type": "code",
   "execution_count": null,
   "id": "1da1a566-fb0a-49c1-91d6-46df08302b24",
   "metadata": {},
   "outputs": [],
   "source": [
    "ff = wvplot_anim(xx, tt, VV)"
   ]
  },
  {
   "cell_type": "code",
   "execution_count": null,
   "id": "8b1d3561-f4bc-4ebd-9abc-b6893aa2e34b",
   "metadata": {},
   "outputs": [],
   "source": [
    "gif_movie(ff) #1分くらいかかります．辛抱強く待ちましょう．"
   ]
  },
  {
   "cell_type": "markdown",
   "id": "bb434547-072d-45f4-a554-9b2c1069e017",
   "metadata": {},
   "source": [
    "これで一通りの1次元地震波伝播シミュレーションが出来上がりました．このシミュレーションは，`beta` や `rho` のパラメタを変えるだけで，不均質な媒質中の地震波伝播を再現できます．実際にパラメタを変えて，色々試してみましょう．"
   ]
  }
 ],
 "metadata": {
  "kernelspec": {
   "display_name": "seismo24",
   "language": "python",
   "name": "python3"
  },
  "language_info": {
   "codemirror_mode": {
    "name": "ipython",
    "version": 3
   },
   "file_extension": ".py",
   "mimetype": "text/x-python",
   "name": "python",
   "nbconvert_exporter": "python",
   "pygments_lexer": "ipython3",
   "version": "3.12.5"
  }
 },
 "nbformat": 4,
 "nbformat_minor": 5
}
